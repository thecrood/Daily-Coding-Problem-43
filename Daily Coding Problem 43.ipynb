{
 "cells": [
  {
   "cell_type": "markdown",
   "id": "349332c8",
   "metadata": {},
   "source": [
    "# Daily Coding Problem 43"
   ]
  },
  {
   "cell_type": "raw",
   "id": "622d7aa5",
   "metadata": {},
   "source": [
    "This problem was asked by Amazon.\n",
    "\n",
    "Implement a stack that has the following methods:\n",
    "\n",
    " * push(val), which pushes an element onto the stack\n",
    " * pop(), which pops off and returns the topmost element of the stack. If there are no elements in the stack, then    it should throw an error or return null.\n",
    " * max(), which returns the maximum value in the stack currently. If there are no elements in the stack, then it      should throw an error or return null.\n",
    " \n",
    "Each method should run in constant time."
   ]
  },
  {
   "cell_type": "markdown",
   "id": "696af2d2",
   "metadata": {},
   "source": [
    "# Solution\n",
    "\n",
    "Implementing the stack part (push and pop) of this problem is easy -- we can just use a typical list to implement the stack with append and pop. However, getting the max in constant time is a little trickier. We could obviously do it in linear time if we popped off everything on the stack while keeping track of the maximum value, and then put everything back on.\n",
    "\n",
    "We can use a secondary stack that only keeps track of the max values at any time. It will be in sync with our primary stack, as in it will have the exact same number of elements as our primary stack at any point in time, but the top of the stack will always contain the maximum value of the stack.\n",
    "\n",
    "We can then, when pushing, check if the element we're pushing is greater than the max value of the secondary stack (by just looking at the top), and if it is, then push that instead. If not, then maintain the previous value.\n",
    "\n"
   ]
  },
  {
   "cell_type": "code",
   "execution_count": 2,
   "id": "d8cc1370",
   "metadata": {},
   "outputs": [],
   "source": [
    "class MaxStack:\n",
    "    def __init__(self):\n",
    "        self.stack = []\n",
    "        self.maxes = []\n",
    "\n",
    "    def push(self, val):\n",
    "        self.stack.append(val)\n",
    "        if self.maxes:\n",
    "            self.maxes.append(max(val, self.maxes[-1]))\n",
    "        else:\n",
    "            self.maxes.append(val)\n",
    "\n",
    "    def pop(self):\n",
    "        if self.maxes:\n",
    "            self.maxes.pop()\n",
    "        return self.stack.pop()\n",
    "\n",
    "    def max(self):\n",
    "        return self.maxes[-1]"
   ]
  },
  {
   "cell_type": "markdown",
   "id": "e94e882d",
   "metadata": {},
   "source": [
    "Everything should run in O(1) time.\n",
    "\n"
   ]
  },
  {
   "cell_type": "code",
   "execution_count": null,
   "id": "a4521413",
   "metadata": {},
   "outputs": [],
   "source": []
  }
 ],
 "metadata": {
  "kernelspec": {
   "display_name": "Python 3 (ipykernel)",
   "language": "python",
   "name": "python3"
  },
  "language_info": {
   "codemirror_mode": {
    "name": "ipython",
    "version": 3
   },
   "file_extension": ".py",
   "mimetype": "text/x-python",
   "name": "python",
   "nbconvert_exporter": "python",
   "pygments_lexer": "ipython3",
   "version": "3.8.10"
  }
 },
 "nbformat": 4,
 "nbformat_minor": 5
}
